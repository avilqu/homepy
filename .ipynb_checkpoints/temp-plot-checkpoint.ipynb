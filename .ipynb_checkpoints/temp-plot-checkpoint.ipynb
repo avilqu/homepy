{
 "cells": [
  {
   "cell_type": "code",
   "execution_count": 2,
   "id": "800a933a-df28-4acc-9eb8-6dfdc8b5e3fd",
   "metadata": {},
   "outputs": [],
   "source": [
    "%matplotlib inline\n",
    "import matplotlib.pyplot as plt\n",
    "plt.style.use('classic')"
   ]
  },
  {
   "cell_type": "code",
   "execution_count": 5,
   "id": "ea26b5da-b117-44a3-8738-5988173bfa7c",
   "metadata": {},
   "outputs": [],
   "source": [
    "import csv"
   ]
  },
  {
   "cell_type": "code",
   "execution_count": 6,
   "id": "b476bcb3-2a5f-4a59-a2f6-96b50ec6e8e1",
   "metadata": {},
   "outputs": [],
   "source": [
    "import config as cfg"
   ]
  },
  {
   "cell_type": "code",
   "execution_count": 8,
   "id": "3feb7d32-9307-440f-8261-946e90d365d3",
   "metadata": {},
   "outputs": [],
   "source": [
    "x = []\n",
    "y1 = []\n",
    "y2 = []"
   ]
  },
  {
   "cell_type": "code",
   "execution_count": 10,
   "id": "df49f622-6539-45d6-8a24-aa69f4e1bcea",
   "metadata": {},
   "outputs": [],
   "source": [
    "with open(f'{cfg.DATA_DIR}2021-08-20.txt') as csv_file:\n",
    "        csv_reader = csv.reader(csv_file, delimiter=',')\n",
    "        data_count = 0\n",
    "        for row in csv_reader:\n",
    "            x.append(row[0])\n",
    "            y1.append(row[1])\n",
    "            y2.append(row[2])\n",
    "            data_count += 1"
   ]
  },
  {
   "cell_type": "code",
   "execution_count": null,
   "id": "7da7aa7e-f987-47f9-8abe-933f5571d44f",
   "metadata": {},
   "outputs": [],
   "source": [
    "plt.plot(x, y1, color='red', label='sensor 1')"
   ]
  },
  {
   "cell_type": "code",
   "execution_count": null,
   "id": "58eb524b-bce4-4614-8f5a-854c90178ff8",
   "metadata": {},
   "outputs": [],
   "source": []
  }
 ],
 "metadata": {
  "kernelspec": {
   "display_name": "Python 3",
   "language": "python",
   "name": "python3"
  },
  "language_info": {
   "codemirror_mode": {
    "name": "ipython",
    "version": 3
   },
   "file_extension": ".py",
   "mimetype": "text/x-python",
   "name": "python",
   "nbconvert_exporter": "python",
   "pygments_lexer": "ipython3",
   "version": "3.8.8"
  }
 },
 "nbformat": 4,
 "nbformat_minor": 5
}
